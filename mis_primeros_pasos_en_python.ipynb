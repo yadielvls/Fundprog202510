{
  "nbformat": 4,
  "nbformat_minor": 0,
  "metadata": {
    "colab": {
      "provenance": [],
      "authorship_tag": "ABX9TyMOmqcfV/+6sxt88g9SBiyh",
      "include_colab_link": true
    },
    "kernelspec": {
      "name": "python3",
      "display_name": "Python 3"
    },
    "language_info": {
      "name": "python"
    }
  },
  "cells": [
    {
      "cell_type": "markdown",
      "metadata": {
        "id": "view-in-github",
        "colab_type": "text"
      },
      "source": [
        "<a href=\"https://colab.research.google.com/github/yadielvls/Fundprog202510/blob/main/mis_primeros_pasos_en_python.ipynb\" target=\"_parent\"><img src=\"https://colab.research.google.com/assets/colab-badge.svg\" alt=\"Open In Colab\"/></a>"
      ]
    },
    {
      "cell_type": "markdown",
      "source": [
        "# PRIMEROS PASOS EN PYTHON\n",
        " 1. yadiel lopez hernandez\n",
        " 1. ID:000576591\n",
        " 1. yadiel.lopez@upb.edu.co"
      ],
      "metadata": {
        "id": "KuKp4wL3aQtL"
      }
    },
    {
      "cell_type": "code",
      "source": [
        "#ejercicio dos\n",
        "#Creamos tres variables\n",
        "#En dos de ellas el usuario puede ingresar un valor y pi ya esta definida\n",
        "print(\"ingrese los valores para calcular el area de un cilindro\")\n",
        "altura=float(input(\"ingresar la altura: \"))\n",
        "radio=float(input(\"ingrese el radio:\"))\n",
        "pi= 3.1415\n",
        "#ahora creamos una variable que realice el calculo del area\n",
        "acilindro=(2*pi*radio*altura) + (2*pi*radio**2)\n",
        "#ahora creamos una vareable que realice el calculo del volumen\n",
        "vcilindro=(pi*radio**2*altura)\n",
        "#mostramos los resultado\n",
        "print(\"el area del cilindro : \" + str(acilindro) + \" m^2 \")\n",
        "print(\"el volumen del cilindro : \" + str(vcilindro) + \"m^3\")\n",
        "#Creamos tres variables\n",
        "#En en tres de ellas el usuario puede ingresar un valor\n",
        "print(\"ingrese los valores para calcular el area de un ortoedro\")\n",
        "ancho=float(input(\"ingresar el ancho: \"))\n",
        "largo=float(input(\"ingresar el largo: \"))\n",
        "profund=float(input(\"ingresa la profundidad: \"))\n",
        "#ahora creamos una variable que realice el calculo del area del ortoedro\n",
        "aortoedro=2*((largo*ancho)+(largo*profund)+(ancho*profund))\n",
        "#ahora creamos una vareable que realice el calculo del volumen ortoedro\n",
        "vortoedro=largo*ancho*profund\n",
        "print(\"el area del ortoedro : \" + str(aortoedro) + \" m^2 \")\n",
        "print(\"el volumen del ortoedro : \" + str(vortoedro) + \"m^3\")\n"
      ],
      "metadata": {
        "id": "2_JcwHEnEQG5",
        "colab": {
          "base_uri": "https://localhost:8080/"
        },
        "outputId": "be7943f6-800f-4751-93fa-dcf3e3701873"
      },
      "execution_count": 2,
      "outputs": [
        {
          "output_type": "stream",
          "name": "stdout",
          "text": [
            "ingrese los valores para calcular el area de un cilindro\n",
            "ingresar la altura: 5\n",
            "ingrese el radio:4\n",
            "el area del cilindro : 226.18800000000002 m^2 \n",
            "el volumen del cilindro : 251.32000000000002m^3\n",
            "ingrese los valores para calcular el area de un ortoedro\n",
            "ingresar el ancho: 3\n",
            "ingresar el largo: 2\n",
            "ingresa la profundidad: 5\n",
            "el area del ortoedro : 62.0 m^2 \n",
            "el volumen del ortoedro : 30.0m^3\n"
          ]
        }
      ]
    },
    {
      "cell_type": "markdown",
      "source": [
        " # EJERCICIO 1"
      ],
      "metadata": {
        "id": "7vRAyUUdYoFY"
      }
    },
    {
      "cell_type": "code",
      "source": [
        "name=input(\"ingrese su nombre:\")\n",
        "age=input(\"ingrese su edad:\")\n",
        "place=input(\"ingrese su lugar de residencia:\")\n",
        "email=input(\"ingrese su email:\")\n",
        "phone=input(\"ingrese su telefono:\")\n",
        "perfil=name,str(age),place,email,str(phone)\n",
        "print(perfil)"
      ],
      "metadata": {
        "colab": {
          "base_uri": "https://localhost:8080/"
        },
        "id": "AczLEvQPYyOh",
        "outputId": "290d9ac9-3763-425f-fc96-6332c7175d5f"
      },
      "execution_count": 3,
      "outputs": [
        {
          "output_type": "stream",
          "name": "stdout",
          "text": [
            "ingrese su nombre:yadiel\n",
            "ingrese su edad16\n",
            "ingrese su lugar de residenciamonteria\n",
            "ingrese su emailyadielgtr35\n",
            "ingrese su telefono123456789\n",
            "('yadiel', '16', 'monteria', 'yadielgtr35', '123456789')\n"
          ]
        }
      ]
    }
  ]
}