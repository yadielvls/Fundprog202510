{
  "nbformat": 4,
  "nbformat_minor": 0,
  "metadata": {
    "colab": {
      "provenance": [],
      "authorship_tag": "ABX9TyNkTcVxs+tMaDf3eL9kr+YQ",
      "include_colab_link": true
    },
    "kernelspec": {
      "name": "python3",
      "display_name": "Python 3"
    },
    "language_info": {
      "name": "python"
    }
  },
  "cells": [
    {
      "cell_type": "markdown",
      "metadata": {
        "id": "view-in-github",
        "colab_type": "text"
      },
      "source": [
        "<a href=\"https://colab.research.google.com/github/yadielvls/Fundprog202510/blob/main/mis_primeros_pasos_en_python.ipynb\" target=\"_parent\"><img src=\"https://colab.research.google.com/assets/colab-badge.svg\" alt=\"Open In Colab\"/></a>"
      ]
    },
    {
      "cell_type": "code",
      "source": [
        "#ejercicio dos\n",
        "#Creamos tres variables\n",
        "#En dos de ellas el usuario puede ingresar un valor y pi ya esta definida\n",
        "print(\"ingrese los valores para calcular el area de un cilindro\")\n",
        "altura=float(input(\"ingresar la altura: \"))\n",
        "pi= 3.1415\n",
        "#ahora creamos una variable que realice el calculo del area\n",
        "acilindro=(2*pi*radio*altura) + (2*pi*radio**2)\n",
        "#ahora creamos una vareable que realice el calculo del volumen\n",
        "vcilindro=(pi*radio**2*altura)\n",
        "#mostramos los resultado\n",
        "print(\"el area del cilindro : \" + str(acilindro) + \" m^2 \")\n",
        "print(\"el volumen del cilindro : \" + str(vcilindro) + \"m^3\")\n",
        "#Creamos tres variables\n",
        "#En en tres de ellas el usuario puede ingresar un valor\n",
        "print(\"ingrese los valores para calcular el area de un ortoedro\")\n",
        "ancho=float(input(\"ingresar el ancho: \"))\n",
        "largo=float(input(\"ingresar el largo: \"))\n",
        "profud=float(input(\"ingresa la profundidad: \"))\n",
        "#ahora creamos una variable que realice el calculo del area del ortoedro\n",
        "aortoedro=2*((largo*ancho)+(largo*profund)+(ancho*profund))\n",
        "#ahora creamos una vareable que realice el calculo del volumen ortoedro\n",
        "vortoedro=largo*ancho*profund\n",
        "print(\"el area del ortoedro : \" + str(aortoedro) + \" m^2 \")\n",
        "print(\"el volumen del ortoedro : \" + str(vortoedro) + \"m^3\")\n",
        "\n",
        "\n",
        "ejercicio uno\n",
        "\n",
        "\n",
        "name= input(\"ingrese su nombre \")\n",
        "age=input(\"ingrese su edad \")\n",
        "place=input(\"ingrese su lugar de recidencia \")\n",
        "email=input(\"ingrese su email \")\n",
        "phone=input(\"ingrese su telefono \")\n",
        "perfil= name, str(age), place, email , str(phone)\n",
        "print (perfil)"
      ],
      "metadata": {
        "id": "2_JcwHEnEQG5"
      },
      "execution_count": null,
      "outputs": []
    }
  ]
}