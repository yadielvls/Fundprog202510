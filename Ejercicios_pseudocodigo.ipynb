{
  "nbformat": 4,
  "nbformat_minor": 0,
  "metadata": {
    "colab": {
      "provenance": [],
      "authorship_tag": "ABX9TyP+zwPb0K8AbRqrqbekUxy2",
      "include_colab_link": true
    },
    "kernelspec": {
      "name": "python3",
      "display_name": "Python 3"
    },
    "language_info": {
      "name": "python"
    }
  },
  "cells": [
    {
      "cell_type": "markdown",
      "metadata": {
        "id": "view-in-github",
        "colab_type": "text"
      },
      "source": [
        "<a href=\"https://colab.research.google.com/github/yadielvls/Fundprog202510/blob/main/Ejercicios_pseudocodigo.ipynb\" target=\"_parent\"><img src=\"https://colab.research.google.com/assets/colab-badge.svg\" alt=\"Open In Colab\"/></a>"
      ]
    },
    {
      "cell_type": "markdown",
      "source": [
        "·1 *CALCULO DE RESISTENCIA EQUIVALENTE EN PARALELO*\n",
        "<br>\n",
        "*Desarrolla un algoritmo que tome como entrada cierto valor de resistencias en paralelo y calcule la resistencia equivalenta*\n",
        "<br>\n",
        "```\n",
        "star\n",
        " declare real R1\n",
        " declare real R2\n",
        " declare real R3\n",
        " declare real R4\n",
        " display\"ingrese el valor en ohmios de la resistencia 1\"\n",
        " input R1\n",
        " display\"ingrese el valor enn ohmios de la resistencia 2\"\n",
        " input R2\n",
        " display\"ingrese el valor en ohmios de la resistencia 3\"\n",
        " input R3\n",
        " display\"ingrese el valor de la resistencia 4\"\n",
        " input r4\n",
        " set Req=1(1/R1)+(1/R2)+(1/R3)+(1/R4)\n",
        " display\"la resistencia equivalente es:\",Req\n",
        " end\n",
        " ```\n",
        "\n",
        "\n",
        "\n",
        "\n"
      ],
      "metadata": {
        "id": "nBqc_st9YH1n"
      }
    },
    {
      "cell_type": "code",
      "source": [
        "r1=int(input(\"ingrese el valor de la resistencia 1=\"))\n",
        "r2=int(input(\"ingrese el valor de la resistencia 2=\"))\n",
        "r3=int(input(\"ingrese el valor de la resistencia 3=\"))\n",
        "r4=int(input(\"ingrese el valor de la resistencia 4=\"))\n",
        "req=1/(1/r1 + 1/r2 + 1/r3 + 1/r4)\n",
        "print(\"la resistencia equivalente es: \",req,\"ohmios \")"
      ],
      "metadata": {
        "colab": {
          "base_uri": "https://localhost:8080/"
        },
        "id": "kZl6ceU1u0pT",
        "outputId": "8800ebe1-31e8-4a9d-d3b6-b27017986b42"
      },
      "execution_count": null,
      "outputs": [
        {
          "output_type": "stream",
          "name": "stdout",
          "text": [
            "ingrese el valor de la resistencia 1=5\n",
            "ingrese el valor de la resistencia 2=5\n",
            "ingrese el valor de la resistencia 3=6\n",
            "ingrese el valor de la resistencia 4=7\n",
            "la resistencia equivalente es:  1.4093959731543626 ohmios \n"
          ]
        }
      ]
    },
    {
      "cell_type": "markdown",
      "source": [
        "·2 *POTENCIA DISPADA*\n",
        "<br>\n",
        "*escriba un algoritmo que tome como entrada el valor de la resistencia en ohmios y el vañor de la corriente en amperios,y calcule la corriente disipada utilizando la ley de joule*\n",
        "<br>\n",
        "\n",
        "\n",
        "```\n",
        "\n",
        "start\n",
        " declare real r\n",
        " declare real i\n",
        " display\"ingrese el valor de la resistencia en ohmios\"\n",
        " input r\n",
        " display\"ingrese el valor de la corriente en amperios\"\n",
        " input i\n",
        " set p=i^2*r\n",
        " display\"la potencia disipada es:\",p\n",
        "\n"
      ],
      "metadata": {
        "id": "IYSVuElmxqPg"
      }
    },
    {
      "cell_type": "code",
      "source": [
        "r=int(input(\"ingrese el valor de la resistencia en ohmios:\"))\n",
        "i=int(input(\"ingrese el valor de la corriente en amperios:\"))\n",
        "p=i**2*r\n",
        "print(\"el valor de la potencia disipada:\",p,\"vatios\")"
      ],
      "metadata": {
        "colab": {
          "base_uri": "https://localhost:8080/"
        },
        "id": "2ExFlKCJMfZU",
        "outputId": "23a3a5d1-58e1-446b-f035-481d79e88e1b"
      },
      "execution_count": null,
      "outputs": [
        {
          "output_type": "stream",
          "name": "stdout",
          "text": [
            "ingrese el valor de la resistencia en ohmios:50\n",
            "ingrese el valor de la corriente en amperios:2\n",
            "el valor de la potencia disipada: 200 vatios\n"
          ]
        }
      ]
    },
    {
      "cell_type": "markdown",
      "source": [
        "·3 *CORRIENTE ELECTRICA EN UNA RESISTENCIA*\n",
        "<br>\n",
        "*escribe un algoritmo que tome de entrada el valor de la tension en voltios y el valor de la resistencia en ohmios y calcule la corriente electrica que circula a traves de ella utilizando la ley de ohm*\n",
        "\n",
        "<br>\n",
        "\n",
        "```\n",
        "start\n",
        " declare real v\n",
        " declare real r\n",
        " display\"ingrese el valor de la tension en voltios\"\n",
        " input v\n",
        " display\"ingrese el valor de la resistencia en ohmios\"\n",
        " input r\n",
        " set i=v/r\n",
        " display\"el valor de la corriente electrica es\",i\n",
        " end\n",
        "\n"
      ],
      "metadata": {
        "id": "xRfTXj8WOSrE"
      }
    },
    {
      "cell_type": "code",
      "source": [
        "v=int(input(\"ingrese el valor de la tension en voltios:\"))\n",
        "r=int(input(\"ingrese el valor de la resistencia en ohmios\"))\n",
        "i=v/r\n",
        "print(\"el valor de la corriente electrica\",i,\"amperios\")\n"
      ],
      "metadata": {
        "id": "jGAn-RIdZkWx",
        "colab": {
          "base_uri": "https://localhost:8080/"
        },
        "outputId": "21c1c81c-3f87-4377-b269-4c529b9d58fd"
      },
      "execution_count": null,
      "outputs": [
        {
          "output_type": "stream",
          "name": "stdout",
          "text": [
            "ingrese el valor de la tension en voltios:12\n",
            "ingrese el valor de la resistencia en ohmios4\n",
            "el valor de la corriente electrica 3.0 amperios\n"
          ]
        }
      ]
    },
    {
      "cell_type": "markdown",
      "source": [
        "·4 *CONSTANTE DE TIEMPO EN UN CIRCUITO RC*\n",
        "<br>\n",
        "*desarrolla un algoritmo que tome como entrada en valor de la resistencia en ohmios y el valor de la capacitancia y calcule la constante de tiempo en un circuito RC*\n",
        "\n",
        "```\n",
        "\n",
        "start\n",
        " declare real r\n",
        " declare float c\n",
        " display\"ingrese el valor de la resistencia en ohmios\"\n",
        " input r\n",
        " display\"ingrese el valor de la capacitancia\"\n",
        " input c\n",
        " t=r*c\n",
        " display\"la constante de tiempo en el circuito:\"\n",
        "\n"
      ],
      "metadata": {
        "id": "msgw7klAp-sd"
      }
    },
    {
      "cell_type": "code",
      "source": [
        "r=int(input(\"ingrese el valor de la resistencia en ohmios\"))\n",
        "c=float(input(\"ingrese el valor de la capacitancia en faradios\"))\n",
        "t=r*c\n",
        "print(\"la constante de tiempo es:\",t,\"segundos\")"
      ],
      "metadata": {
        "colab": {
          "base_uri": "https://localhost:8080/"
        },
        "id": "uZpwWnG-ve85",
        "outputId": "6b9faabc-a18b-471f-cb07-57f08393281a"
      },
      "execution_count": null,
      "outputs": [
        {
          "output_type": "stream",
          "name": "stdout",
          "text": [
            "ingrese el valor de la resistencia en ohmios100\n",
            "ingrese el valor de la capacitancia en faradios0.0005\n",
            "la constante de tiempo es: 0.05 segundos\n"
          ]
        }
      ]
    },
    {
      "cell_type": "markdown",
      "source": [
        "·5 *CONSUMO DE ENERGIA EN UN PERIODO DE TIEMPO*\n",
        "<br>\n",
        "*desarrolla un algoritmo que tome entrata un numero de horas y valores de potencia promedio por hora en kwh para calcular en energia total consumida en el periodo indicado.para este caso, la energia consumida cada hora tiene el mismo valor de la potencia promedio por hora,y la energia total es la sumatoria de estas*\n",
        "\n",
        "```\n",
        "\n",
        "start\n",
        " declare horas=4\n",
        " declare real p_promedio1\n",
        " declare real p_promedio2\n",
        " declare real p_promedio3\n",
        " declare real p_promedio4\n",
        " declare real energia_total\n",
        " display\"la potencia promedio en la primera hora fue de:\"\n",
        " input p_promedio1\n",
        " display\"la potencia promedio en la segunda hora fue de:\"\n",
        " input p_promedio2\n",
        " display\"la potencia promedio en la tercera hora fue de:\"\n",
        " input p_promedio3\n",
        " display\"la potencia promedio en la cuartas hora fue de:\"\n",
        " input p_promedio4\n",
        " set energia_total=p_promedio1 + p_promedio2 + p_promedio3 + p_promedio4\n",
        " display\"la energia total consumida en\",horas,\"fue de:\",energia_total\n",
        " end\n",
        "\n"
      ],
      "metadata": {
        "id": "Nroxl_TZ1Ia-"
      }
    },
    {
      "cell_type": "code",
      "source": [
        "h=4\n",
        "p_promedio1=float(input(\"la potencia promedio en la primera hora es de:\"))\n",
        "p_promedio2=float(input(\"la potencia promedio en la segunda hora es de:\"))\n",
        "p_promedio3=float(input(\"la potencia promedio en la tercera hora es de\"))\n",
        "p_promedio4=float(input(\"la potencia promedio en la cuarta hora es de \"))\n",
        "energia_total=p_promedio1 + p_promedio2 + p_promedio3 + p_promedio4\n",
        "print(\"la energia total consumida en\",energia_total)"
      ],
      "metadata": {
        "colab": {
          "base_uri": "https://localhost:8080/"
        },
        "id": "SXRjjdg2DSIs",
        "outputId": "33d2d50c-08a1-4586-8b33-722d3f3ba605"
      },
      "execution_count": null,
      "outputs": [
        {
          "output_type": "stream",
          "name": "stdout",
          "text": [
            "la potencia promedio en la primera hora es de:25\n",
            "la potencia promedio en la segunda hora es de:25\n",
            "la potencia promedio en la tercera hora es de50\n",
            "la potencia promedio en la cuarta hora es de 100\n",
            "la energia total consumida en 200.0\n"
          ]
        }
      ]
    }
  ]
}